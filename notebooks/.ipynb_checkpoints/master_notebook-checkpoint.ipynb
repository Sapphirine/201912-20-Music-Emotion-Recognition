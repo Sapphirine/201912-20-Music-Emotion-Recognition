{
 "cells": [
  {
   "cell_type": "code",
   "execution_count": 1,
   "metadata": {},
   "outputs": [],
   "source": [
    "from __future__ import print_function\n",
    "from pathlib import Path\n",
    "import numpy as np, scipy, matplotlib.pyplot as plt, IPython.display as ipd\n",
    "import librosa, librosa.display\n",
    "import pandas as pd\n",
    "from tqdm import tqdm\n",
    "from scipy.optimize import minimize\n",
    "import warnings\n",
    "\n",
    "%matplotlib inline"
   ]
  },
  {
   "cell_type": "code",
   "execution_count": 2,
   "metadata": {},
   "outputs": [
    {
     "name": "stdout",
     "output_type": "stream",
     "text": [
      "/Users/zhonglingjiang/Desktop/Fall 2019/Big Data Analytics/music_emotion_recognition/libs\n"
     ]
    }
   ],
   "source": [
    "cd ../libs"
   ]
  },
  {
   "cell_type": "code",
   "execution_count": 3,
   "metadata": {},
   "outputs": [],
   "source": [
    "from rp_extract.rp_extract import rp_extract\n",
    "from rp_extract.audiofile_read import *\n",
    "from rp_extract.rp_plot import *"
   ]
  },
  {
   "cell_type": "code",
   "execution_count": 4,
   "metadata": {},
   "outputs": [
    {
     "name": "stdout",
     "output_type": "stream",
     "text": [
      "/Users/zhonglingjiang/Desktop/Fall 2019/Big Data Analytics/music_emotion_recognition/notebooks\n"
     ]
    }
   ],
   "source": [
    "cd ../notebooks"
   ]
  },
  {
   "cell_type": "code",
   "execution_count": 5,
   "metadata": {},
   "outputs": [],
   "source": [
    "audio_path = Path.cwd().parent / '1000songs' / 'clips_45seconds'"
   ]
  },
  {
   "cell_type": "markdown",
   "metadata": {},
   "source": [
    "## Part I: Feature Extraction"
   ]
  },
  {
   "cell_type": "code",
   "execution_count": 12,
   "metadata": {},
   "outputs": [],
   "source": [
    "def append_val(d, k, v):\n",
    "    if k not in d:\n",
    "        d[k] = [v]\n",
    "    else:\n",
    "        d[k].append(v)\n",
    "    return d\n",
    "\n",
    "def salient_pitch(y, sr):\n",
    "    salient_pitch_index = [i+1 for i in range(1000)]\n",
    "    salient_pitch_columns = ['salient_pitch_mean', 'salient_pitch_variance']\n",
    "    salient_pitch_1000_songs = np.zeros(shape = (1000,2))\n",
    "    \n",
    "    per_sample_t = 1.0 / sr\n",
    "    pitch_frame_length, pitch_hop_length = int(50 / 1000 / per_sample_t), int(25 / 1000 / per_sample_t)\n",
    "    # we hope to introduce an acf - filtered salient pitch\n",
    "    salient_pitch = []\n",
    "    num_total_frames = (len(y) - pitch_frame_length) // pitch_hop_length + 1\n",
    "    for i in range(num_total_frames):\n",
    "        acf = librosa.core.autocorrelate(y[i*pitch_hop_length : (i*pitch_hop_length+pitch_frame_length)])\n",
    "        # introduce a filtered acf method\n",
    "        for j in range(1, len(acf) - 1):\n",
    "            if acf[j] > acf[j-1] and acf[j] > acf[j+1]:\n",
    "                if j >= 20 and acf[j] == np.max(acf[j-20:j+20]): # reducing the adjacent HF fluctuation\n",
    "                    salient_pitch.append(sr / j)\n",
    "                    break\n",
    "    return np.array(salient_pitch, dtype = float)\n",
    "\n",
    "def chroma_centroid(y, sr):\n",
    "    per_sample_t = 1.0 / sr\n",
    "    chromagram_frame_length, chromagram_hop_length = int(100 / 1000 / per_sample_t), int(12.5 / 1000 / per_sample_t)\n",
    "    chromagram_center = librosa.feature.spectral_centroid(y=y, sr=sr, n_fft=chromagram_frame_length, \\\n",
    "                                                      hop_length=chromagram_hop_length)[0]\n",
    "    \n",
    "    return chromagram_center[1:]\n",
    "    \n",
    "def key_clarity_and_mode(y, sr):\n",
    "    key_clarity = np.zeros(shape = (1000,1))\n",
    "    major_minor_key_clarity = np.zeros(shape = (1000,2),dtype=int)\n",
    "    mode = np.zeros(shape = (1000,2))\n",
    "    major_index, minor_index = [0,2,4,5,7,9,11], [1,3,6,8,10]\n",
    "\n",
    "    per_sample_t = 1.0 / sr\n",
    "    chromagram_frame_length, chromagram_hop_length = int(100 / 1000 / per_sample_t), int(12.5 / 1000 / per_sample_t)\n",
    "    chromagram = librosa.feature.chroma_stft(y, sr=sr, n_fft= chromagram_frame_length, \\\n",
    "                                             hop_length = chromagram_hop_length, \\\n",
    "                                             win_length = chromagram_frame_length, window = 'hamming', \\\n",
    "                                             n_chroma = 12)\n",
    "    # zero-column delete\n",
    "    k, ln_chro = 0, chromagram.shape[1]\n",
    "    while k < ln_chro:\n",
    "        if k >= chromagram.shape[1]:\n",
    "            break\n",
    "        if np.sum(chromagram[:,k]) == 0:\n",
    "            chromagram = np.delete(chromagram, k, 1)\n",
    "            k -= 1\n",
    "        k += 1   \n",
    "    major_chro = np.array([chromagram[0,:], chromagram[2,:], chromagram[4,:], chromagram[5,:], chromagram[7,:], \\\n",
    "                 chromagram[9,:], chromagram[11,:]], dtype = float)\n",
    "    minor_chro = np.array([chromagram[1,:], chromagram[3,:], chromagram[6,:], chromagram[8,:], chromagram[10,:]],\\\n",
    "                          dtype = float)\n",
    "    key_clarity = np.max(np.sum(chromagram, axis=1))\n",
    "    major_minor_key_clarity = [major_index[np.argmax(np.sum(major_chro, axis=1))] , \\\n",
    "                              minor_index[np.argmax(np.sum(minor_chro, axis=1))]]\n",
    "\n",
    "    dif_sum = []\n",
    "    for j in range(chromagram.shape[1]):\n",
    "        dif_sum.append(chromagram[major_minor_key_clarity[0], j] - \\\n",
    "                       chromagram[major_minor_key_clarity[1], j])\n",
    "    mode = [np.mean(dif_sum), np.std(dif_sum)]\n",
    "    return np.array([key_clarity, mode[0], mode[1]], dtype = float)\n",
    "\n",
    "def temporal_centroid(envelope):\n",
    "    \"\"\"computes the temporal centroid of an onset envelope\"\"\"\n",
    "    D = np.abs(librosa.stft(envelope))\n",
    "    times = librosa.times_like(D)\n",
    "\n",
    "    onset_strength = librosa.onset.onset_strength(y=envelope, sr=sr)\n",
    "    \n",
    "    try:\n",
    "        temporal_centroid = sum(onset_strength * times) / sum(onset_strength)\n",
    "    except RuntimeWarning:\n",
    "        temporal_centroid = np.nan\n",
    "    \n",
    "    return temporal_centroid\n",
    "\n",
    "def log_attack_time(envelope, sr, thresh_percent):\n",
    "    D = np.abs(librosa.stft(envelope))\n",
    "    times = librosa.times_like(D)\n",
    "    onset_strength = librosa.onset.onset_strength(y=envelope, sr=sr)\n",
    "    \n",
    "    stop_attack_index = np.argmax(onset_strength)\n",
    "    stop_attack_value = envelope[stop_attack_index]\n",
    "    thresh = stop_attack_value * thresh_percent / 100\n",
    "    \n",
    "    try:\n",
    "        start_attack_index = [x > thresh for x in onset_strength].index(True)\n",
    "    except ValueError:\n",
    "        return np.nan\n",
    "    \n",
    "    if start_attack_index == stop_attack_index:\n",
    "        start_attack_index -= 1\n",
    "\n",
    "    log_attack_time =  np.log10(times[stop_attack_index] - times[start_attack_index])\n",
    "    \n",
    "    return log_attack_time\n",
    "\n",
    "def extract_features(signal, sr):\n",
    "    \"\"\"Given and a signal and its sampling rate, compute all the features\"\"\"\n",
    "    \n",
    "    # Harmonic Features \n",
    "    # FIXME\n",
    "    salient_pitches = salient_pitch(signal, sr)\n",
    "    salient_features = np.array([np.mean(salient_pitches), np.std(salient_pitches)])\n",
    "    \n",
    "    chroma_centroids = chroma_centroid(signal, sr)\n",
    "    chroma_features = np.array([np.mean(chroma_centroids), np.std(chroma_centroids)])\n",
    "    \n",
    "    clarity_mode_features = key_clarity_and_mode(signal, sr)\n",
    "    \n",
    "    \n",
    "    # Temporal Features\n",
    "    onset_samples = np.unique(librosa.onset.onset_detect(signal, sr=sr, backtrack=True, units='samples'))\n",
    "    all_envelopes = np.split(signal, onset_samples)\n",
    "    \n",
    "    zero_crossings = np.array([sum(librosa.zero_crossings(x, pad=False)) for x in all_envelopes])\n",
    "    zero_features = np.array([np.mean(zero_crossings), np.std(zero_crossings)])\n",
    "    \n",
    "    temporal_centroids = np.array([temporal_centroid(x) for x in all_envelopes])\n",
    "    temporal_centroids = temporal_centroids[~np.isnan(temporal_centroids)]\n",
    "    temporal_cen_features = np.array([np.mean(temporal_centroids), np.std(temporal_centroids)])\n",
    "    \n",
    "    log_attacks = np.array([log_attack_time(x, sr, 50) for x in all_envelopes])\n",
    "    log_attacks = log_attacks[~np.isnan(log_attacks)]\n",
    "    log_attack_features = np.array([np.mean(log_attacks), np.std(log_attacks)])\n",
    "    \n",
    "    # Rhythmic Feautres (without dimension reduction for now)\n",
    "    rhythm = rp_extract(signal, sr, extract_rh=True, transform_db=True, transform_phon=True, transform_sone=True,          \n",
    "        fluctuation_strength_weighting=True, \n",
    "        skip_leadin_fadeout=1,             \n",
    "        step_width=1)\n",
    "    rhythm_hist = rhythm['rh']\n",
    "    rhythm_mean = np.array([np.mean(rhythm_hist)])\n",
    "    \n",
    "    # FIXME\n",
    "    all_features = np.concatenate([salient_features, chroma_features, zero_features, temporal_cen_features, \\\n",
    "                                   log_attack_features, rhythm_hist, rhythm_mean])\n",
    "    \n",
    "    return all_features"
   ]
  },
  {
   "cell_type": "markdown",
   "metadata": {},
   "source": [
    "### [Important]: Filter out songs that are not in KDE annotations"
   ]
  },
  {
   "cell_type": "code",
   "execution_count": 13,
   "metadata": {},
   "outputs": [],
   "source": [
    "kernel_density = pd.read_csv('../Time_Average_Gamma_0_1.csv', header=0)\n",
    "song_id_in_kde = kernel_density.song_id.unique()"
   ]
  },
  {
   "cell_type": "code",
   "execution_count": 14,
   "metadata": {},
   "outputs": [
    {
     "name": "stderr",
     "output_type": "stream",
     "text": [
      " 26%|██▋       | 265/1000 [18:26<1:03:15,  5.16s/it]"
     ]
    }
   ],
   "source": [
    "warnings.filterwarnings('ignore')\n",
    "audio_path = Path.cwd().parent / '1000songs' / 'clips_45seconds'\n",
    "all_mp3_paths = list(audio_path.glob('**/*.mp3'))\n",
    "song_ids = []\n",
    "audio_train = [] \n",
    "## FIXME \n",
    "for path in tqdm(all_mp3_paths):\n",
    "    song_id = int((str(path).split('/')[-1].split('.')[0]))\n",
    "    if song_id not in song_id_in_kde:\n",
    "        continue\n",
    "    if len(audio_train) < 200: #we'll start off with only 10 training pieces to save time\n",
    "        signal, sr = librosa.load(str(path))\n",
    "        try:\n",
    "            song_features = extract_features(signal, sr)\n",
    "            audio_train.append(song_features)\n",
    "            song_ids.append(song_id)\n",
    "\n",
    "        except ValueError as e:\n",
    "            print(path)\n",
    "            continue\n",
    "    else:\n",
    "        break\n",
    "\n",
    "audio_train = np.array(audio_train).T"
   ]
  },
  {
   "cell_type": "code",
   "execution_count": 17,
   "metadata": {},
   "outputs": [
    {
     "data": {
      "text/plain": [
       "(71, 200)"
      ]
     },
     "execution_count": 17,
     "metadata": {},
     "output_type": "execute_result"
    }
   ],
   "source": [
    "audio_train.shape"
   ]
  },
  {
   "cell_type": "code",
   "execution_count": 53,
   "metadata": {},
   "outputs": [],
   "source": [
    "# we need a test song\n",
    "test_song = '108.mp3'\n",
    "signal, sr = librosa.load(str(audio_path / test_song))\n",
    "audio_test = extract_features(signal, sr)"
   ]
  },
  {
   "cell_type": "markdown",
   "metadata": {},
   "source": [
    "## Part II: Kernel Density Estimation"
   ]
  },
  {
   "cell_type": "code",
   "execution_count": 54,
   "metadata": {},
   "outputs": [
    {
     "data": {
      "text/html": [
       "<div>\n",
       "<style scoped>\n",
       "    .dataframe tbody tr th:only-of-type {\n",
       "        vertical-align: middle;\n",
       "    }\n",
       "\n",
       "    .dataframe tbody tr th {\n",
       "        vertical-align: top;\n",
       "    }\n",
       "\n",
       "    .dataframe thead th {\n",
       "        text-align: right;\n",
       "    }\n",
       "</style>\n",
       "<table border=\"1\" class=\"dataframe\">\n",
       "  <thead>\n",
       "    <tr style=\"text-align: right;\">\n",
       "      <th></th>\n",
       "      <th>song_id</th>\n",
       "      <th>[0,0]</th>\n",
       "      <th>[0,1]</th>\n",
       "      <th>[0,2]</th>\n",
       "      <th>[0,3]</th>\n",
       "      <th>[0,4]</th>\n",
       "      <th>[0,5]</th>\n",
       "      <th>[0,6]</th>\n",
       "      <th>[0,7]</th>\n",
       "      <th>[0,8]</th>\n",
       "      <th>...</th>\n",
       "      <th>[15,6]</th>\n",
       "      <th>[15,7]</th>\n",
       "      <th>[15,8]</th>\n",
       "      <th>[15,9]</th>\n",
       "      <th>[15,10]</th>\n",
       "      <th>[15,11]</th>\n",
       "      <th>[15,12]</th>\n",
       "      <th>[15,13]</th>\n",
       "      <th>[15,14]</th>\n",
       "      <th>[15,15]</th>\n",
       "    </tr>\n",
       "  </thead>\n",
       "  <tbody>\n",
       "    <tr>\n",
       "      <th>0</th>\n",
       "      <td>2</td>\n",
       "      <td>0.003781</td>\n",
       "      <td>0.003843</td>\n",
       "      <td>0.003895</td>\n",
       "      <td>0.003934</td>\n",
       "      <td>0.003962</td>\n",
       "      <td>0.003978</td>\n",
       "      <td>0.003981</td>\n",
       "      <td>0.003972</td>\n",
       "      <td>0.003950</td>\n",
       "      <td>...</td>\n",
       "      <td>0.003695</td>\n",
       "      <td>0.003687</td>\n",
       "      <td>0.003667</td>\n",
       "      <td>0.003636</td>\n",
       "      <td>0.003594</td>\n",
       "      <td>0.003541</td>\n",
       "      <td>0.003479</td>\n",
       "      <td>0.003406</td>\n",
       "      <td>0.003325</td>\n",
       "      <td>0.003236</td>\n",
       "    </tr>\n",
       "    <tr>\n",
       "      <th>1</th>\n",
       "      <td>3</td>\n",
       "      <td>0.003811</td>\n",
       "      <td>0.003870</td>\n",
       "      <td>0.003917</td>\n",
       "      <td>0.003952</td>\n",
       "      <td>0.003975</td>\n",
       "      <td>0.003986</td>\n",
       "      <td>0.003984</td>\n",
       "      <td>0.003970</td>\n",
       "      <td>0.003944</td>\n",
       "      <td>...</td>\n",
       "      <td>0.003705</td>\n",
       "      <td>0.003692</td>\n",
       "      <td>0.003667</td>\n",
       "      <td>0.003632</td>\n",
       "      <td>0.003585</td>\n",
       "      <td>0.003528</td>\n",
       "      <td>0.003461</td>\n",
       "      <td>0.003385</td>\n",
       "      <td>0.003300</td>\n",
       "      <td>0.003208</td>\n",
       "    </tr>\n",
       "    <tr>\n",
       "      <th>2</th>\n",
       "      <td>4</td>\n",
       "      <td>0.003245</td>\n",
       "      <td>0.003330</td>\n",
       "      <td>0.003406</td>\n",
       "      <td>0.003473</td>\n",
       "      <td>0.003530</td>\n",
       "      <td>0.003577</td>\n",
       "      <td>0.003614</td>\n",
       "      <td>0.003639</td>\n",
       "      <td>0.003653</td>\n",
       "      <td>...</td>\n",
       "      <td>0.003959</td>\n",
       "      <td>0.003987</td>\n",
       "      <td>0.004003</td>\n",
       "      <td>0.004006</td>\n",
       "      <td>0.003996</td>\n",
       "      <td>0.003974</td>\n",
       "      <td>0.003940</td>\n",
       "      <td>0.003895</td>\n",
       "      <td>0.003837</td>\n",
       "      <td>0.003769</td>\n",
       "    </tr>\n",
       "    <tr>\n",
       "      <th>3</th>\n",
       "      <td>5</td>\n",
       "      <td>0.003561</td>\n",
       "      <td>0.003652</td>\n",
       "      <td>0.003734</td>\n",
       "      <td>0.003806</td>\n",
       "      <td>0.003868</td>\n",
       "      <td>0.003918</td>\n",
       "      <td>0.003956</td>\n",
       "      <td>0.003983</td>\n",
       "      <td>0.003996</td>\n",
       "      <td>...</td>\n",
       "      <td>0.003621</td>\n",
       "      <td>0.003645</td>\n",
       "      <td>0.003657</td>\n",
       "      <td>0.003659</td>\n",
       "      <td>0.003649</td>\n",
       "      <td>0.003627</td>\n",
       "      <td>0.003595</td>\n",
       "      <td>0.003552</td>\n",
       "      <td>0.003498</td>\n",
       "      <td>0.003434</td>\n",
       "    </tr>\n",
       "    <tr>\n",
       "      <th>4</th>\n",
       "      <td>7</td>\n",
       "      <td>0.003059</td>\n",
       "      <td>0.003153</td>\n",
       "      <td>0.003239</td>\n",
       "      <td>0.003318</td>\n",
       "      <td>0.003387</td>\n",
       "      <td>0.003448</td>\n",
       "      <td>0.003498</td>\n",
       "      <td>0.003539</td>\n",
       "      <td>0.003568</td>\n",
       "      <td>...</td>\n",
       "      <td>0.004027</td>\n",
       "      <td>0.004073</td>\n",
       "      <td>0.004107</td>\n",
       "      <td>0.004129</td>\n",
       "      <td>0.004137</td>\n",
       "      <td>0.004133</td>\n",
       "      <td>0.004115</td>\n",
       "      <td>0.004085</td>\n",
       "      <td>0.004043</td>\n",
       "      <td>0.003988</td>\n",
       "    </tr>\n",
       "  </tbody>\n",
       "</table>\n",
       "<p>5 rows × 257 columns</p>\n",
       "</div>"
      ],
      "text/plain": [
       "   song_id     [0,0]     [0,1]     [0,2]     [0,3]     [0,4]     [0,5]  \\\n",
       "0        2  0.003781  0.003843  0.003895  0.003934  0.003962  0.003978   \n",
       "1        3  0.003811  0.003870  0.003917  0.003952  0.003975  0.003986   \n",
       "2        4  0.003245  0.003330  0.003406  0.003473  0.003530  0.003577   \n",
       "3        5  0.003561  0.003652  0.003734  0.003806  0.003868  0.003918   \n",
       "4        7  0.003059  0.003153  0.003239  0.003318  0.003387  0.003448   \n",
       "\n",
       "      [0,6]     [0,7]     [0,8]  ...    [15,6]    [15,7]    [15,8]    [15,9]  \\\n",
       "0  0.003981  0.003972  0.003950  ...  0.003695  0.003687  0.003667  0.003636   \n",
       "1  0.003984  0.003970  0.003944  ...  0.003705  0.003692  0.003667  0.003632   \n",
       "2  0.003614  0.003639  0.003653  ...  0.003959  0.003987  0.004003  0.004006   \n",
       "3  0.003956  0.003983  0.003996  ...  0.003621  0.003645  0.003657  0.003659   \n",
       "4  0.003498  0.003539  0.003568  ...  0.004027  0.004073  0.004107  0.004129   \n",
       "\n",
       "    [15,10]   [15,11]   [15,12]   [15,13]   [15,14]   [15,15]  \n",
       "0  0.003594  0.003541  0.003479  0.003406  0.003325  0.003236  \n",
       "1  0.003585  0.003528  0.003461  0.003385  0.003300  0.003208  \n",
       "2  0.003996  0.003974  0.003940  0.003895  0.003837  0.003769  \n",
       "3  0.003649  0.003627  0.003595  0.003552  0.003498  0.003434  \n",
       "4  0.004137  0.004133  0.004115  0.004085  0.004043  0.003988  \n",
       "\n",
       "[5 rows x 257 columns]"
      ]
     },
     "execution_count": 54,
     "metadata": {},
     "output_type": "execute_result"
    }
   ],
   "source": [
    "kernel_density = pd.read_csv('../Time_Average_Gamma_0_1.csv', header=0)\n",
    "kernel_density.head()"
   ]
  },
  {
   "cell_type": "markdown",
   "metadata": {},
   "source": [
    "## Part III: Mapping Factor Learning"
   ]
  },
  {
   "cell_type": "code",
   "execution_count": 55,
   "metadata": {},
   "outputs": [
    {
     "name": "stdout",
     "output_type": "stream",
     "text": [
      "The estimated β vector is: \n",
      "\n",
      "[0.00365699 0.01073327 0.03474754 0.0000234  0.01088687 0.         0.         0.         0.0022859  0.         ... 0.         0.02481098 0.01396911 0.         0.         0.         0.\n",
      " 0.         0.         0.00695396]\n"
     ]
    }
   ],
   "source": [
    "# Non-negative sparse representation (SR+) seems require solution >0\n",
    "# Need to enforce additional condition\n",
    "\n",
    "lamda = 0.01\n",
    "\n",
    "def RSS_L1(beta, X, y, lamda):\n",
    "    y_hat = np.dot(X, beta)\n",
    "    return np.sqrt(np.sum((y - y_hat)**2)) + lamda* np.sum(np.abs(beta))\n",
    "\n",
    "beta0 = np.random.normal(0, 1, audio_train.shape[1])\n",
    "bnds = []\n",
    "for i in range(audio_train.shape[1]):\n",
    "    bnds.append((0, None))\n",
    "bnds = tuple(bnds)    \n",
    "res = minimize(fun=RSS_L1, x0=beta0, args=(audio_train, audio_test, lamda), bounds=bnds)\n",
    "beta_hat = res.x\n",
    "mapping_factors = beta_hat\n",
    "print('The estimated β vector is: \\n')\n",
    "print(mapping_factors)"
   ]
  },
  {
   "cell_type": "markdown",
   "metadata": {},
   "source": [
    "### Part IV: Emotion Space Mapping"
   ]
  },
  {
   "cell_type": "code",
   "execution_count": 56,
   "metadata": {},
   "outputs": [
    {
     "data": {
      "text/plain": [
       "array([0.00435816, 0.00447343, 0.00457754, 0.00466959, 0.00474875, 0.0048143 , 0.00486567, 0.00490236, 0.00492405, 0.00493053, ..., 0.00523104, 0.00527179, 0.00529641, 0.00530468, 0.00529653,\n",
       "       0.00527202, 0.0052314 , 0.00517501, 0.0051034 , 0.0050172 ])"
      ]
     },
     "execution_count": 56,
     "metadata": {},
     "output_type": "execute_result"
    }
   ],
   "source": [
    "pred_emotion = np.zeros(16 * 16)\n",
    "for i, s_id in enumerate(song_ids):\n",
    "    if (kernel_density.loc[kernel_density['song_id'] == s_id, ].shape[0] == 0):\n",
    "        emotion_val = np.zeros(16 * 16)\n",
    "    else: \n",
    "        emotion_val = kernel_density.loc[kernel_density['song_id'] == s_id, ]. \\\n",
    "                        drop(['song_id'], axis=1).values[0]\n",
    "    pred_emotion += mapping_factors[i] * emotion_val\n",
    "pred_emotion"
   ]
  },
  {
   "cell_type": "code",
   "execution_count": 62,
   "metadata": {},
   "outputs": [
    {
     "data": {
      "image/png": "[encoded data removed]",
      "text/plain": [
       "<Figure size 432x288 with 2 Axes>"
      ]
     },
     "metadata": {
      "needs_background": "light"
     },
     "output_type": "display_data"
    }
   ],
   "source": [
    "# Our prediction\n",
    "import seaborn as sns\n",
    "pred_emotion_reshape = np.reshape(pred_emotion, (16, 16))\n",
    "sns.heatmap(pred_emotion_reshape)\n",
    "plt.savefig('../pred_va_{}.png'.format(test_song.split('.')[0]))"
   ]
  },
  {
   "cell_type": "code",
   "execution_count": 61,
   "metadata": {},
   "outputs": [
    {
     "data": {
      "image/png": "[encoded data removed]",
      "text/plain": [
       "<Figure size 432x288 with 2 Axes>"
      ]
     },
     "metadata": {
      "needs_background": "light"
     },
     "output_type": "display_data"
    }
   ],
   "source": [
    "# Actual \n",
    "actual_emotion = kernel_density.loc[kernel_density['song_id'] == int(test_song.split('.')[0]), ]. \\\n",
    "                    drop(['song_id'], axis=1).values[0]\n",
    "actual_emotion_reshape = np.reshape(actual_emotion, (16, 16))\n",
    "sns.heatmap(actual_emotion_reshape)\n",
    "plt.savefig('../actual_va_{}.png'.format(test_song.split('.')[0]))"
   ]
  }
 ],
 "metadata": {
  "kernelspec": {
   "display_name": "musicrecommendation",
   "language": "python",
   "name": "musicrecommendation"
  },
  "language_info": {
   "codemirror_mode": {
    "name": "ipython",
    "version": 3
   },
   "file_extension": ".py",
   "mimetype": "text/x-python",
   "name": "python",
   "nbconvert_exporter": "python",
   "pygments_lexer": "ipython3",
   "version": "3.6.9"
  }
 },
 "nbformat": 4,
 "nbformat_minor": 2
}
